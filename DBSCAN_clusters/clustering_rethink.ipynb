{
 "cells": [
  {
   "cell_type": "markdown",
   "metadata": {},
   "source": [
    "# Load in Data"
   ]
  },
  {
   "cell_type": "code",
   "execution_count": 1,
   "metadata": {},
   "outputs": [],
   "source": [
    "\n",
    "import csv\n",
    "import numpy as np \n",
    "import numpy as np\n",
    "import re\n",
    "import pandas as pd \n",
    "#max rows pandas \n",
    "pd.set_option('display.max_rows', 10_000)\n",
    "pd.set_option('display.max_columns', None)\n",
    "\n",
    "\n",
    "# Function to read CSV file and extract columns\n",
    "def read_csv(file_path):\n",
    "    columns = {}\n",
    "    with open(file_path, newline='', encoding='utf-8') as csvfile:\n",
    "        reader = csv.DictReader(csvfile)\n",
    "        for column in reader.fieldnames:\n",
    "            columns[column] = []\n",
    "        for row in reader:\n",
    "            for column in reader.fieldnames:\n",
    "                columns[column].append(row[column])\n",
    "    return columns\n",
    "\n",
    "def split_response(input):\n",
    "    input = \"\\\\n\\\\n1)\" + input[34:-57]\n",
    "\n",
    "    result = re.split(r'\\\\n\\\\n\\d\\)', input)\n",
    "    for i in range(len(result)):\n",
    "        result[i] = re.split(r'(\\\\n\\d\\.\\d\\d?|\\\\n\\d\\.\\d)', result[i])\n",
    "\n",
    "    for i in range(len(result)):\n",
    "        indicesToRemove = []\n",
    "        for j in range(len(result[i])):\n",
    "            if len(result[i][j]) < 8:\n",
    "                indicesToRemove.append(j)\n",
    "        indicesToRemove.reverse()\n",
    "        for j in indicesToRemove:\n",
    "            result[i].remove(result[i][j])\n",
    "    return result[1:]"
   ]
  },
  {
   "cell_type": "code",
   "execution_count": 4,
   "metadata": {},
   "outputs": [],
   "source": [
    "gpt_separate = read_csv(\"./Separate_Pairs_FINAL_Result_wGPT.csv\")[\"GPT\"]\n",
    "cagpt_separate = read_csv(\"./Separate_Pairs_FINAL_Result_wGPT.csv\")[\"CAGPT\"]\n",
    "#gpt_mixed = read_csv(\"./Mixed_Pairs_FINAL_Result_wGPT.csv\")[\"GPT\"]\n",
    "#cagpt_mixed= read_csv(\"./Mixed_Pairs_FINAL_Result_wGPT.csv\")[\"CAGPT\"]\n",
    "\n",
    "\n",
    "\n",
    "gpt = gpt_separate #+ gpt_mixed\n",
    "cagpt = cagpt_separate #+ cagpt_mixed\n",
    "\n",
    "\n",
    "\n",
    "# Initialize lists to store BERT embeddings\n",
    "gpt_embeddings = [[],[],[],[],[]]\n",
    "cagpt_embeddings = [[],[],[],[],[]]\n",
    "\n",
    "for i in range(len(gpt)):\n",
    "    gpt[i] = split_response(gpt[i])\n",
    "\n",
    "for i in range(len(cagpt)):\n",
    "    cagpt[i] = split_response(cagpt[i])\n",
    "\n",
    "while i < len(gpt):\n",
    "    if len(gpt[i]) != 5:\n",
    "        gpt.remove(gpt[i])\n",
    "        i = i-1\n",
    "    i+=1\n",
    "\n",
    "for i in range(len(cagpt)):\n",
    "    if len(cagpt[i]) != 5:\n",
    "        cagpt.remove(cagpt[i])\n",
    "        i = i-1\n",
    "    if i+1 == len(cagpt):\n",
    "        break\n",
    "\n",
    "\n",
    "\n"
   ]
  },
  {
   "cell_type": "code",
   "execution_count": 5,
   "metadata": {},
   "outputs": [],
   "source": [
    "gpt # privacy statement, question, responses\n",
    "\n",
    "questions = []\n",
    "\n",
    "for k,privacy in enumerate(gpt):\n",
    "    for j,question in enumerate(privacy):\n",
    "        for response in question:\n",
    "            questions.append(\n",
    "                {\"privacy statement number \": k, \"question\": j, \"response\": response,\"type\": \"GPT\"}\n",
    "            )\n",
    "\n",
    "cagpt # privacy statement, question, responses\n",
    "caquestions = []   \n",
    "\n",
    "for k,privacy in enumerate(cagpt):\n",
    "    for j,question in enumerate(privacy):\n",
    "        for response in question:\n",
    "            caquestions.append(\n",
    "                {\"privacy statement number \": k, \"question\": j, \"response\": response,\"type\": \"CAGPT\"}\n",
    "            )\n",
    "\n"
   ]
  },
  {
   "cell_type": "markdown",
   "metadata": {},
   "source": [
    "# Get Embeddings"
   ]
  },
  {
   "cell_type": "code",
   "execution_count": 4,
   "metadata": {},
   "outputs": [
    {
     "data": {
      "text/plain": [
       "True"
      ]
     },
     "execution_count": 4,
     "metadata": {},
     "output_type": "execute_result"
    }
   ],
   "source": [
    "import dotenv \n",
    "dotenv.load_dotenv()"
   ]
  },
  {
   "cell_type": "code",
   "execution_count": 5,
   "metadata": {},
   "outputs": [],
   "source": [
    "from openai import OpenAI\n",
    "client = OpenAI()\n",
    "model ='text-embedding-3-large'\n",
    "def get_embedding(texts, model=model ):\n",
    "   #text = text.replace(\"\\n\", \" \")\n",
    "   return client.embeddings.create(input = texts, model=model).data\n",
    "\n"
   ]
  },
  {
   "cell_type": "code",
   "execution_count": 14,
   "metadata": {},
   "outputs": [],
   "source": [
    "embeddings = [ ]\n",
    "for j in range(0,len(questions),100):\n",
    "    texts = [x['response'] for x in questions[j:j+100]]\n",
    "    response = get_embedding(texts)\n",
    "    embeddings.extend([x.embedding for x in response])\n"
   ]
  },
  {
   "cell_type": "code",
   "execution_count": 34,
   "metadata": {},
   "outputs": [],
   "source": [
    "embeddings_ca = [ ]\n",
    "for j in range(0,len(caquestions),100):\n",
    "    texts = [x['response'] for x in caquestions[j:j+100]]\n",
    "    response = get_embedding(texts)\n",
    "    embeddings_ca.extend([x.embedding for x in response])"
   ]
  },
  {
   "cell_type": "code",
   "execution_count": 17,
   "metadata": {},
   "outputs": [],
   "source": [
    "\n",
    "embeddings_arr = np.vstack(embeddings)"
   ]
  },
  {
   "cell_type": "code",
   "execution_count": 36,
   "metadata": {},
   "outputs": [],
   "source": [
    "embeddings_ca_arr = np.vstack(embeddings_ca)"
   ]
  },
  {
   "cell_type": "code",
   "execution_count": 37,
   "metadata": {},
   "outputs": [],
   "source": [
    "np.save(\"embeddings/gptca\", embeddings_ca_arr)"
   ]
  },
  {
   "cell_type": "code",
   "execution_count": 39,
   "metadata": {},
   "outputs": [
    {
     "data": {
      "text/plain": [
       "(6554, 3072)"
      ]
     },
     "execution_count": 39,
     "metadata": {},
     "output_type": "execute_result"
    }
   ],
   "source": [
    "embeddings_ca_arr.shape "
   ]
  },
  {
   "cell_type": "code",
   "execution_count": 23,
   "metadata": {},
   "outputs": [],
   "source": [
    "#save \n",
    "np.save(\"./embeddings/gpt\", embeddings_arr)\n"
   ]
  },
  {
   "cell_type": "code",
   "execution_count": 24,
   "metadata": {},
   "outputs": [
    {
     "data": {
      "text/plain": [
       "(5535, 3072)"
      ]
     },
     "execution_count": 24,
     "metadata": {},
     "output_type": "execute_result"
    }
   ],
   "source": [
    "embeddings_arr.shape "
   ]
  },
  {
   "cell_type": "markdown",
   "metadata": {},
   "source": [
    "# Work with Embeddings"
   ]
  },
  {
   "cell_type": "code",
   "execution_count": 6,
   "metadata": {},
   "outputs": [],
   "source": [
    "def cosine_simalarity(u,v):\n",
    "    return np.dot(u,v)/(np.linalg.norm(u)*np.linalg.norm(v))"
   ]
  },
  {
   "cell_type": "code",
   "execution_count": 7,
   "metadata": {},
   "outputs": [],
   "source": [
    "embeddings_arr = np.load(\"embeddings/gpt.npy\")"
   ]
  },
  {
   "cell_type": "code",
   "execution_count": 8,
   "metadata": {},
   "outputs": [],
   "source": [
    "embeddings_ca_arr = np.load(\"embeddings/gptca.npy\")"
   ]
  },
  {
   "cell_type": "code",
   "execution_count": 9,
   "metadata": {},
   "outputs": [
    {
     "name": "stdout",
     "output_type": "stream",
     "text": [
      " Information is collected directly from users when they interact with the website, such as through purchases, account creation, or communication.\n",
      " Information provided directly by users is collected through online services like websites or mobile applications. \n",
      " Information provided directly by users through offline interactions is collected, such as when submitting rebate claims by mail or calling customer service.\n",
      " Personal information provided directly by users. \n",
      " Personal Information is collected when registering for an account, making a purchase, using web forms, engaging on social media, updating account information, chatting with customer support, or corresponding with the company.\n",
      " Information is collected through online forms, information entered or provided when purchasing products or services, completing job applications, entering sweepstakes.\n",
      " User provides personal information directly to Publisher through website interactions, email subscriptions, or form submissions.\n",
      " Personal Login Information: Collected directly from the customer when accessing or using Services.\n",
      " Professional or Employment-related Information: Collected directly from the individual, possibly during account setup or service provision.\n",
      " Other Information and Usage Data: Collected directly from interactions with our website or services, and also automatically collected through IP addresses, log files, etc.\n",
      " Personal Information collected directly through Services or Website interaction, survey participation, events, and product or service requests\n",
      " Information you provide voluntarily is collected through your direct interactions with our Website, such as when you register an account, process and fulfill your orders, subscribe to marketing communications, submit inquiries, or apply for a job.\n",
      " Information collected directly from the user: through interactions with the Site and Services.\n",
      " Information You Submit Us is collected through registration, account management, and purchasing products.\n",
      " Information is collected directly when provided by users.\n",
      " Information is collected automatically as users navigate through the Websites.\n",
      " Personal information you provide directly is collected through forms, account creation, and direct communications.\n",
      " Information you provide is collected through direct interactions via the Sites.  \n",
      " Information from interactions with website and Applications collected through user actions\n",
      " Information is collected directly from the user when they provide it\n",
      " Information is collected automatically as the user navigates through the site\n",
      " Information provided by users collected through registration for services, participation in surveys, requests for information, opting in for communications, or contest entries.\n",
      " Information is collected directly from individuals when they sign up for loyalty programs, events, manage their account, or communicate with Chick-fil-A.\n",
      " Information is collected directly from individuals when they participate in promotions and events, respond to surveys and provide feedback.\n",
      " Payment information is collected directly from individuals during the ordering or purchase process.\n",
      " Information is collected when a user fills out a form or enters information on the site.\n",
      " Information you enter on the Website, the Sites, or that you give in-person, via telephone, email, or otherwise is collected directly from you.\n",
      " Registering for an account collected directly when provided by the user.\n",
      " Participating in promotions, surveys, and/or contests collected directly when provided by the user.\n",
      " Personal information provided by users during product purchase or website visit via forms and purchases\n",
      " Information is collected through user interaction and engagement with the website and mobile applications.\n",
      " Directly from our users when they submit a review form, lead form or other web form on the Site.\n",
      " Data you provide directly is collected through registration, participation, or correspondence via the Services. \n",
      " Information provided by users during registration or transaction is collected through forms and voice commands.\n",
      " Information is collected via account setup on dkoldies.com.\n",
      " Personal information you provide directly is collected through registration, emails, support requests, and event registration.\n",
      " Personal Information is collected through voluntary submission by users for purchases or access to certain Site features.\n",
      " Personal Information You Provide to Us Directly: Collected through forms and direct user inputs on the website or app.\n",
      " Personal Information collected directly from users when they use our Services\n",
      " Information you provide is collected through forms and direct input when you create an account, request services, provide business information, participate in surveys, enter promotions, and subscribe to newsletters.\n",
      " Information you provide: Collected directly from you when you provide it to us.\n",
      " Personal Information you provide to us is collected via forms, account creation, and direct communications.\n",
      " Personal Information collected through user's provision (e.g., Contact information) is collected directly from users when they interact with Gannett's Products, such as signing up for newsletters or making a purchase.\n",
      " Biographical and Demographic Information: Collected directly from individuals via Online and Offline Channels.\n",
      " Financial Information: Collected directly from individuals when they provide payment or engage in financial transactions.\n",
      " Audio, Electronic, or Visual Information: Collected directly from individuals through recording interactions or submissions.\n",
      " Personal Information collected through direct provision by the user.\n",
      " Automated Information collected when the user uses the Website.\n",
      " Interacting with our website: Information collected including name, email, phone number, IP address, website URL, and mobile device ID when you visit our website.\n",
      " Information collected directly from the individual when they contact HARIBO, create an account, participate in contests, request customer service, post a review, apply for a job, or sign up for newsletters.\n",
      " Information you provide directly collected via account registration, quote requests, health insurance applications, and communications.\n",
      " Information is collected directly from users when they provide it.\n",
      " Information is collected automatically as users navigate through the site, including usage details, IP addresses, and information collected through cookies.\n",
      " Information is collected through transactions when requesting, purchasing, returning, requesting, or exchanging a product or service.\n",
      " Personal information is collected through direct inputs when you purchase products or visit the website.\n",
      " Information provided by users directly is collected via website, apps, or when they use services.\n",
      " Information is automatically collected when visiting the website, using apps, or services, through devices.\n",
      " Personal Information is collected through voluntary submission by the user.\n",
      " Direct interactions collected through forms, emails, or other correspondence.\n",
      " Information provided directly by users collected via forms and interactions on the Service\n",
      " Information is collected directly from you when making an insurance request, purchase, or submitting an email or form.\n",
      " Information provided directly by users collected through entering information into website forms, placing orders, creating accounts, or contacting KITH with questions or comments.\n",
      " Information directly provided by users (e.g., name, addresses, phone number) is collected through forms and interactions on their Services.\n",
      " Directly from users through forms and interactions on the Website\n",
      " Information you provide directly through the Site is collected through forms and account creation.\n",
      " Information knowingly submitted by users through the site is collected through form submissions and interactions.\n",
      " Information filled in forms - Collected directly from users when they interact with the forms on the site.\n",
      " Personal details are collected directly from users\n",
      " Device and browser information is collected through users' interaction with the websites.\n",
      " Information is collected when engaging in activities such as signing up for newsletters, participating in promotions, or contacting customer support.\n",
      " Subscribing, sending an email, signing up for an email list, making a purchase, creating an account, participating more fully - Personally identifiable information is collected.\n",
      " Personal Information collected directly from users through voluntary provision\n",
      " Contact information how collected: Direct provision by user, automated means, obtained from affiliates, partners, customers, vendors, third-party online services, social media platforms, data brokers, public sources\n",
      " Demographic data how collected: Direct provision by user, inferred from other collected data\n",
      " Payment data how collected: Direct provision by user\n",
      " Commercial information how collected: Direct provision by user, automated means, obtained from affiliates, partners, customers, vendors, public sources\n",
      " Interests and preferences how collected: Direct provision by user, inferred from other collected data\n",
      " Communications and interactions how collected: Direct provision by user, automated chat features\n",
      " Identity information collected directly from users when they verify their identity or interact with certain services.\n",
      " Contact Information collected directly from users via the Service\n",
      " Commercial Information collected directly from users via the Service\n",
      " Contents of communications collected directly from users via various means (email, mail, phone, text message, etc.)\n",
      " Name and contact information how collected: Directly provided by users\n",
      " Demographic data how collected: Directly provided by users during registration or surveys\n",
      " Payment information how collected: Directly provided by users during transactions\n",
      " Account access information how collected: Directly provided by users\n",
      " Sensitive demographic data how collected: Directly provided by users\n",
      " Contents of communications how collected: Directly from users' communications\n",
      " Biometric information how collected: Directly provided by users\n",
      " Health data how collected: Directly provided by users\n",
      " Directly from users via forms, surveys, applications\n",
      " Information you provide directly to the Site collected via input forms or direct interaction.\n",
      " Personal information provided directly to the Site.\n",
      " Information you provide to us collected through accessing and using the Sites, communicating with us, registering an account, signing up for newsletter subscriptions and email alerts, or engaging in business dealings.\n",
      " Personal Information: Collected through user sharing, website use, event attendance, store visits, communication (e.g., email, phone, text), social media interaction, and product purchases.\n",
      " Information provided through online registration forms is collected directly from users.\n",
      " Information is collected when users interact on social media accounts, including comments and likes.\n",
      " Information is collected from third-parties interacting with the website concerning the products and services offered.\n",
      " Information You Provide to Us Directly collected through direct interactions such as establishing a customer or user account, registering for services, contacting customer service, participating in surveys or contests, and through social media communications.\n",
      " Information you provide directly is collected via forms, purchases, registrations, or communications.\n",
      " Data you provide directly through the Services is collected through online registration forms, direct correspondence, and interaction with the Services.\n",
      " When you make a purchase, create an account, request to receive newsletters, participate in forums, write reviews or feedback, submit a warranty claim, call the call center, use chat features, fill out a contact form, register for the VIP Program, submit a photo, or participate in polls, surveys, or contests, your data is collected directly.\n",
      " Information you provide directly via the Service collected through forms and communications.\n",
      " Information provided voluntarily by users is collected via registration, orders, contests, subscriptions, participation in activities, or forums.\n",
      " Information You Give Us: collected through user input on websites and during offline interactions\n",
      " Information You Provide to Us collected through direct submission by the user\n",
      " Information collected directly from you: via website form submissions or other direct interactions on our Site.\n",
      " Personal Information is collected through forms completed by the user, communication with the company, and user interaction with the Web Properties.\n",
      " Voluntarily provided personal information is collected through forms and interactions on the Site.\n",
      " Data provided voluntarily by User how collected: Collected through registration forms and voluntary communications (e.g., emails) from users.\n",
      " Item 2 being collected: Personal data provided voluntarily by users (e.g., through registration forms or emails).\n",
      " Personal Identifiers are collected directly from you when you provide them to perform a transaction or engage in activities on our website.\n",
      " Commercial Information is collected when you make a purchase or engage in a transaction.\n",
      " Personal Information is collected through voluntary provision by the user to make purchases or access certain features.\n",
      " Information you give to Sectigo is collected through direct interactions.\n",
      " Website access, subscription to marketing material, and purchase or use of services: collected through user interaction and submission on the Servers.com platform.\n",
      " Contact via any form of communication: collected when users initiate contact through website forms, email, or other forms of communication.\n",
      " Direct interactions collected through forms and email correspondence.\n",
      " Information You Provide to Us collected through account creation on their Website.\n",
      " When you make a purchase, information is collected through the transaction process.\n",
      " When you register for an account, information is collected through the account creation process.\n",
      " When interacting with associates for product assistance, information is collected through direct interactions.\n",
      " Directly from you through registration for an account, submitting information through surveys or contest-entry forms, posting comments or feedback, contact us actions, and purchases made through the Website.\n",
      " Information is collected through the website and websites using the services\n",
      " Communications collected when users contact us directly \n",
      " Information is collected directly from users when they interact with Subway Services, such as ordering, creating an account, or contacting Subway.\n",
      " Information is combined from various sources, including direct interactions, automatic collections, and third parties.\n",
      " Information provided directly by users is collected through forms on the Service.\n",
      " Personal information is collected through form submissions, chatbot interactions, and third-party platform connections.\n",
      " Account Information is collected directly from the user during account creation and management.\n",
      " Contact Information is collected directly from the user, such as when signing up for newsletters or filling out a form.\n",
      " Commercial History is collected directly from the user during purchase transactions through the Services.\n",
      " Responses to Surveys and Questionnaires are collected directly from the user when they participate.\n",
      " Social Media Information is collected directly from the user when they post or share on platforms.\n",
      " Team Information is collected directly from the user when they register as a team owner.\n",
      " Personal information directly from you: User input during registration or use of the Services.\n",
      " Voluntary Disclosure Directly From You: Collected when you communicate with us, register to use the Sites, purchase Services, and at other times.\n",
      " Personal Information is collected through voluntary submission by the user to make purchases or access certain Site features.\n",
      " User Direct Information is collected through interactions such as form submissions, email correspondence, newsletter subscriptions, offer redemptions, or other transmissions via the site.\n",
      " Survey Information is collected voluntarily by users through surveys, order forms, or registration pages either online or offline.\n",
      " Information collected directly from users: By requesting it based on the financial products they seek.\n",
      " Directly from the user when they register or use Uphold's products, services, or apps.\n",
      " Information is collected through user interaction with Klarna Services.\n",
      " Through direct interactions when using the website or services\n",
      " Contact information is collected directly from individuals.\n",
      " Other personal information in content is provided by individuals on our websites or through direct interactions with us.\n",
      " Directly from users when they register, make purchases, subscribe, leave comments, make contact requests, or apply for jobs on VIZ Media's Sites\n",
      " Support data how collected: When users submit inquiries via online forms, email, or phone, including name and email address for communicating necessary information regarding products or services.\n",
      " Information you provide directly to us is collected via forms, participation in interactive features, contests, promotions, social media interaction, customer support requests, and communications with us.\n",
      " From user interactions on the website, including form submissions.\n",
      " Information is collected when you provide it, fill out forms, or provide information through the Services.\n",
      " Account information collected directly from users\n",
      " Personal Information directly from You via the Site and from Your use and interactions with the Site, including from cookies on the Site\n",
      " Information you provide is collected through forms and direct communication.\n",
      " Information provided directly to Appodeal through service interaction, website engagement, surveys, events, product or service requests is collected via direct input from users.\n",
      " Information You Provide to Us how collected: through interactions such as creating/modifying an account, using Products, making a purchase, asking for information, signing up for an event, contacting the Customer Relationship Center, or otherwise communicating.\n",
      " Transaction Information how collected: Directly through the Services, automatically through cookies, and sometimes from third parties\n",
      " User Account Information how collected: Directly through the Services\n",
      " Live Chat Interactions how collected: Directly through the Services\n",
      " Information You Provide to Us: Collected through user input during account creation, purchases, event sign-ups, customer service interactions, or vehicle service history provided on sites.\n",
      " Communications sent by users, such as via e-mail or website communication forms, being collected\n",
      " Contact and account registration information is collected directly from you, other users, consumer data resellers, public records databases, conferences, events, and affiliates.\n",
      " Demographic and statistical information is collected directly from you, other users, consumer data resellers, affiliates, and social media networks.\n",
      " Financial and transactional information is collected directly from you, third-party payment processors, and third-party suppliers and sellers.\n",
      " User-generated content is collected directly from you and other users.\n",
      " Information about others is collected directly from you and other users or recipients.\n",
      " Social media information is collected directly from you and social media networks.\n",
      " Other information is collected directly from you.\n",
      "------------------------------------\n",
      " Personal Information is collected via website operations\n",
      " Information We Collect Directly from You: directly from consumer interactions and submissions on the website and communication via email and phone.\n",
      " Passive Information Collection: automatically through website visits and product use via server logs, cookies, pixels, and Web beacons.\n",
      " Directly from forms you complete or products and services you purchase.\n",
      " Contact information collected via direct input and communication from the user.\n",
      " Professional or employment information collected via direct input and communication from the user.\n",
      " Other information collected through direct user submissions.\n",
      " Directly from you. For example, from forms you complete or products and services you purchase.\n",
      " Directly from the consumer (e.g., reservations, forms, transactions).\n",
      " Consumers; how collected: Directly from individuals \n",
      " Commercial information collected through transactions and online engagements\n",
      " Commercial information collected through website interactions, purchases, and customer service engagement.\n",
      " From the individual through information submitted directly or input onto the Sites or passive means like website cookies\n",
      " Personal Information from Purchases or Website Visits collected directly from consumers\n",
      " Commercial information collected through user interaction with products or services online (e.g., items added to basket, purchases).\n",
      " Directly from the user by providing information\n",
      " Personal information is collected via requests by the user to the company.\n",
      " Sources of personal information are collected from user interactions and third parties.\n",
      " Internet activity collected directly from you and business partners\n",
      " Internet activity collected directly from you and business partners\n",
      " Directly from you. For example, from forms you complete or products and services you buy.\n",
      " Commercial Information is collected through transactions and interactions with our services.\n",
      " Directly from you. For example, from forms you complete or products and services you purchase.\n",
      " Personal Information You Provide to Us is collected directly from you when you use our Services.\n",
      " Directly from users through account registration, forms, subscriptions, and comments.\n",
      " Directly from you during account registration from forms you complete, subscriptions you purchase, or comments you provide on our Products\n",
      " Commercial information collected directly from you and our service providers.\n",
      " Audio, electronic, or visual information collected directly from you and our service providers.\n",
      " Directly from you. For example, from information that you provide to us through our online forms, email, or other means\n",
      " You provide us registration, subscription, or contact information through direct interactions with our services.\n",
      " Directly from you. For example, from forms you complete or products and services you purchase.\n",
      " Indirectly from you. For example, from observing your actions on our website or from information your computer or mobile device transmits when interacting with our website or mobile applications, among other things.\n",
      " Indirectly from the individual through website interactions and cookies\n",
      " Commercial information is collected directly from users, third-party sites or platforms, analytics tools, social networks, and third-party services.\n",
      " Internet or other electronic network activity information is collected directly from users, third-party sites or platforms, analytics tools, social networks, and third-party services.\n",
      " Audio, electronic, visual, or similar information is collected directly from users.\n",
      " Contact Information how collected: Directly from the user when they contact us, submit a question via our Sites, request a demo, or inquire about our products or services.\n",
      " Account Registration Information how collected: Directly from the user when they register with us.\n",
      " Communications and Inquiries how collected: Directly from the user when they contact us.\n",
      " Personal information provided by you when purchasing products or visiting the website is collected through direct interactions.\n",
      " Identifiers such as name, address, email address are collected via registration or direct submission by the user.\n",
      " Any other information the user chooses to provide is collected via direct submission by the user.\n",
      " Directly from you. For example, from forms you complete or products and services you purchase.\n",
      " Identifiers how collected: Provided directly by users or through interactions with services\n",
      " Commercial information how collected: Provided directly by users and through interactions with services\n",
      " Geolocation Data how collected: Provided directly by users or through interactions with services\n",
      " Inferences how collected: Made based on information provided directly by users or through interactions with services\n",
      " Personal information described in Cal. Civ. Code Â§1798.80(e) how collected: Provided directly by users or through interactions with services\n",
      " Audio, electronic, visual, or similar information how collected: Provided directly by users or through interactions with services\n",
      " Sensitive personal information how collected: Provided directly by users or through interactions with services\n",
      " Identifiers are collected directly from users or through their interactions with services or partners.\n",
      " Commercial information is collected directly from users or through their interactions with services and from partners and customers.\n",
      " Geolocation Data is collected directly from users or through their interactions with services.\n",
      " Professional or Employment-Related Information is collected directly from users or from customers, partners, or other members.\n",
      " Inferences are collected directly from users or through their interactions with services and from customers and partners.\n",
      " Audio, electronic, visual or similar information is collected directly from users or through their interactions with services, customers, or partners.\n",
      " Consumers; how collected: Directly from individuals\n",
      " Directly from consumer actions on their website\n",
      " Identifiers are collected directly from the user.\n",
      " Sensitive Personal Information is collected directly from the user when they log in.\n",
      " Commercial information is collected directly from the user, automatically from their device(s), and from third parties such as partners.\n",
      " Directly from consumers (e.g., through their communications with us on the Site)\n",
      " Identity Data is collected directly from consumers, indirectly from consumers through cookies, and from lead generators and ad networks.\n",
      " Information from you that you actively provide is collected through communications with us via online forms, e-mail, and telephone.\n",
      " Directly from the user when they complete forms on the Site\n",
      " Data is collected through website or app interactions\n",
      " Directly from you when you provide it on the website\n",
      " Directly from you through credit applications, contracts, interactions with our Sites, transactions, customer services communications.\n",
      " Information provided directly by users is collected through direct interactions with Spectrum or when establishing a customer or user account.\n",
      " Commercial Data collected directly from you and affiliates and partners\n",
      " Internet Data collected directly from you and through your use of the Company's Services\n",
      " Directly from consumers when they use the Site or Services\n",
      " Information is collected online through the platform.\n",
      " Identifiers how collected: Through website or store interactions\n",
      " Directly from you (e.g. from forms you complete; from products and services you purchase).\n",
      " Directly from consumers (via forms, product/service purchase, customer service requests, account or membership registration)\n",
      " Directly from you. For example, from forms you complete or products and services you purchase.\n",
      " Other information is collected through any other direct user inputs or interactions with the platform\n",
      " Specific pieces of personal information collected are gathered through direct customer input or interactions with the services\n",
      " Identifiers collected through direct interactions, online activities, and transactions.\n",
      " Personal Records collected through direct interactions, applications, and transactions.\n",
      " Internet activity collected directly from you and business partners\n",
      " Commercial information is collected through purchasing records and user interactions with products and services.\n",
      " Directly from forms you complete or products and services you purchase.\n",
      " Customer service information how collected: Through direct communications by users via online forms, email, phone, or post, and summaries of interactions with customer support.\n",
      " Directly from the consumer via forms completed or products and services purchased\n",
      " Indirectly from the consumer through information obtained in the course of providing services or from observing actions on the website\n",
      " Directly from individuals when they shop online or visit the website\n",
      " Directly from you when you visit our website, fill in forms on our websites or submit information through our websites, including by posting reviews or other information.\n",
      " Directly from you when you sign up for an account on our websites or purchase our products or services.\n",
      " Commercial Data collected based on users' interactions and transactions with the Services.\n",
      " Identifiers, Profile Data, and Login Information how collected: Collected directly from users.\n",
      " Payment and Order Data how collected: Collected directly from users when they make payments.\n",
      " Commercial Data how collected: Collected directly from users to facilitate services.\n",
      " Professional or employment-related information how collected: Collected directly from users or their employers.\n",
      " Surveys, sweepstakes, and event information how collected: Collected directly from users when they participate.\n",
      " Other Identifying Information that You Voluntarily Choose to Provide how collected: Collected directly from users.\n",
      " Directly from you (including automatically when you interact with our Services)\n",
      " Personal information collected through website interaction and app navigation\n",
      " Directly from the user (e.g., filling forms, creating an account, submitting a resume/CV)\n",
      " Indirectly from the user (e.g., through automated technologies or interactions with the website)\n",
      " Contact Information is collected directly from the user when they use Frontier's Services.\n",
      " Financial and Transactional Information is collected directly from the user when they use Frontier's Services.\n",
      " Information provided directly by users collected via forms, account creation, community forum postings, purchase communications, customer support requests, and other online interactions\n",
      " Contact and account registration information collected through website/app forms and account setup procedures\n",
      " Other information collected through various direct user inputs and interactions with the Services\n",
      " Personal information is collected through interaction with products and services, placing orders, inquiries about service, communication via chat or phone, seeking technical support, contacting on social media, website visits, or participation in contests, sweepstakes or promotions.\n"
     ]
    }
   ],
   "source": [
    "threshold = .6\n",
    "x = embeddings_arr[0,:] # corresponds to information directly collected from user\n",
    "\n",
    "###\n",
    "\n",
    "\n",
    "sims = []\n",
    "for j in range(0,len(questions)):\n",
    "    cs = cosine_simalarity(x,embeddings_arr[j,:])\n",
    "    sims.append(cs)\n",
    "    if cs > threshold:\n",
    "        print(questions[j]['response'])\n",
    "print(\"------------------------------------\")\n",
    "for j in range(0,len(caquestions)):\n",
    "    cs = cosine_simalarity(x,embeddings_ca_arr[j,:])\n",
    "    sims.append(cs)\n",
    "    if cs > threshold:\n",
    "        print(caquestions[j]['response'])"
   ]
  },
  {
   "cell_type": "code",
   "execution_count": 10,
   "metadata": {},
   "outputs": [
    {
     "data": {
      "text/plain": [
       "<Axes: ylabel='Count'>"
      ]
     },
     "execution_count": 10,
     "metadata": {},
     "output_type": "execute_result"
    },
    {
     "data": {
      "image/png": "[encoded data removed]",
      "text/plain": [
       "<Figure size 640x480 with 1 Axes>"
      ]
     },
     "metadata": {},
     "output_type": "display_data"
    }
   ],
   "source": [
    "import seaborn as sns \n",
    "sns.histplot(sims)"
   ]
  },
  {
   "cell_type": "markdown",
   "metadata": {},
   "source": [
    "Seeing the distribution allows us to figure what a good threshold for the cosine simiilarity should be. Here we see around .5-.8."
   ]
  },
  {
   "cell_type": "code",
   "execution_count": 11,
   "metadata": {},
   "outputs": [],
   "source": [
    "for j in range(len(questions)):\n",
    "    questions[j]['embedding'] = embeddings_arr[j,:]\n",
    "for j in range(len(caquestions)):\n",
    "    caquestions[j]['embedding'] = embeddings_ca_arr[j,:]\n"
   ]
  },
  {
   "cell_type": "code",
   "execution_count": 12,
   "metadata": {},
   "outputs": [
    {
     "data": {
      "text/plain": [
       "12089"
      ]
     },
     "execution_count": 12,
     "metadata": {},
     "output_type": "execute_result"
    }
   ],
   "source": [
    "len(questions) + len(caquestions)"
   ]
  },
  {
   "cell_type": "code",
   "execution_count": 14,
   "metadata": {},
   "outputs": [
    {
     "data": {
      "text/html": [
       "<div>\n",
       "<style scoped>\n",
       "    .dataframe tbody tr th:only-of-type {\n",
       "        vertical-align: middle;\n",
       "    }\n",
       "\n",
       "    .dataframe tbody tr th {\n",
       "        vertical-align: top;\n",
       "    }\n",
       "\n",
       "    .dataframe thead th {\n",
       "        text-align: right;\n",
       "    }\n",
       "</style>\n",
       "<table border=\"1\" class=\"dataframe\">\n",
       "  <thead>\n",
       "    <tr style=\"text-align: right;\">\n",
       "      <th></th>\n",
       "      <th>privacy statement number</th>\n",
       "      <th>question</th>\n",
       "      <th>response</th>\n",
       "      <th>type</th>\n",
       "      <th>embedding</th>\n",
       "    </tr>\n",
       "  </thead>\n",
       "  <tbody>\n",
       "    <tr>\n",
       "      <th>0</th>\n",
       "      <td>0</td>\n",
       "      <td>0</td>\n",
       "      <td>Information is collected directly from users ...</td>\n",
       "      <td>GPT</td>\n",
       "      <td>[-0.033987488597631454, 0.01902325265109539, -...</td>\n",
       "    </tr>\n",
       "    <tr>\n",
       "      <th>1</th>\n",
       "      <td>0</td>\n",
       "      <td>0</td>\n",
       "      <td>Log and device information are collected auto...</td>\n",
       "      <td>GPT</td>\n",
       "      <td>[-0.0072717852890491486, 0.004054248332977295,...</td>\n",
       "    </tr>\n",
       "    <tr>\n",
       "      <th>2</th>\n",
       "      <td>0</td>\n",
       "      <td>0</td>\n",
       "      <td>Information is obtained from third-party sour...</td>\n",
       "      <td>GPT</td>\n",
       "      <td>[-0.008600250817835331, -0.022183965891599655,...</td>\n",
       "    </tr>\n",
       "    <tr>\n",
       "      <th>3</th>\n",
       "      <td>0</td>\n",
       "      <td>1</td>\n",
       "      <td>Name, email address, zip or postal code, bill...</td>\n",
       "      <td>GPT</td>\n",
       "      <td>[-0.015137944370508194, 0.023861505091190338, ...</td>\n",
       "    </tr>\n",
       "    <tr>\n",
       "      <th>4</th>\n",
       "      <td>0</td>\n",
       "      <td>1</td>\n",
       "      <td>Log information including browser type, acces...</td>\n",
       "      <td>GPT</td>\n",
       "      <td>[-0.002065186155959964, -0.011139274574816227,...</td>\n",
       "    </tr>\n",
       "  </tbody>\n",
       "</table>\n",
       "</div>"
      ],
      "text/plain": [
       "   privacy statement number   question  \\\n",
       "0                          0         0   \n",
       "1                          0         0   \n",
       "2                          0         0   \n",
       "3                          0         1   \n",
       "4                          0         1   \n",
       "\n",
       "                                            response type  \\\n",
       "0   Information is collected directly from users ...  GPT   \n",
       "1   Log and device information are collected auto...  GPT   \n",
       "2   Information is obtained from third-party sour...  GPT   \n",
       "3   Name, email address, zip or postal code, bill...  GPT   \n",
       "4   Log information including browser type, acces...  GPT   \n",
       "\n",
       "                                           embedding  \n",
       "0  [-0.033987488597631454, 0.01902325265109539, -...  \n",
       "1  [-0.0072717852890491486, 0.004054248332977295,...  \n",
       "2  [-0.008600250817835331, -0.022183965891599655,...  \n",
       "3  [-0.015137944370508194, 0.023861505091190338, ...  \n",
       "4  [-0.002065186155959964, -0.011139274574816227,...  "
      ]
     },
     "execution_count": 14,
     "metadata": {},
     "output_type": "execute_result"
    }
   ],
   "source": [
    "#put into pandas dataframe\n",
    "import pandas as pd\n",
    "df = pd.DataFrame(questions)\n",
    "#df = df.append(pd.DataFrame(caquestions))\n",
    "df = pd.concat([df, pd.DataFrame(caquestions)], ignore_index=True)\n",
    "df.head() "
   ]
  },
  {
   "cell_type": "code",
   "execution_count": 36,
   "metadata": {},
   "outputs": [
    {
     "data": {
      "text/plain": [
       "(2498, 3072)"
      ]
     },
     "execution_count": 36,
     "metadata": {},
     "output_type": "execute_result"
    }
   ],
   "source": [
    "question_number = 0 #embeddings for question 1 \n",
    "\n",
    "q1 = df[df['question'] == question_number].reset_index(drop=True)\n",
    "X = np.vstack(q1['embedding'])\n",
    "X.shape "
   ]
  },
  {
   "cell_type": "code",
   "execution_count": 37,
   "metadata": {},
   "outputs": [
    {
     "data": {
      "text/html": [
       "<style>#sk-container-id-6 {color: black;}#sk-container-id-6 pre{padding: 0;}#sk-container-id-6 div.sk-toggleable {background-color: white;}#sk-container-id-6 label.sk-toggleable__label {cursor: pointer;display: block;width: 100%;margin-bottom: 0;padding: 0.3em;box-sizing: border-box;text-align: center;}#sk-container-id-6 label.sk-toggleable__label-arrow:before {content: \"▸\";float: left;margin-right: 0.25em;color: #696969;}#sk-container-id-6 label.sk-toggleable__label-arrow:hover:before {color: black;}#sk-container-id-6 div.sk-estimator:hover label.sk-toggleable__label-arrow:before {color: black;}#sk-container-id-6 div.sk-toggleable__content {max-height: 0;max-width: 0;overflow: hidden;text-align: left;background-color: #f0f8ff;}#sk-container-id-6 div.sk-toggleable__content pre {margin: 0.2em;color: black;border-radius: 0.25em;background-color: #f0f8ff;}#sk-container-id-6 input.sk-toggleable__control:checked~div.sk-toggleable__content {max-height: 200px;max-width: 100%;overflow: auto;}#sk-container-id-6 input.sk-toggleable__control:checked~label.sk-toggleable__label-arrow:before {content: \"▾\";}#sk-container-id-6 div.sk-estimator input.sk-toggleable__control:checked~label.sk-toggleable__label {background-color: #d4ebff;}#sk-container-id-6 div.sk-label input.sk-toggleable__control:checked~label.sk-toggleable__label {background-color: #d4ebff;}#sk-container-id-6 input.sk-hidden--visually {border: 0;clip: rect(1px 1px 1px 1px);clip: rect(1px, 1px, 1px, 1px);height: 1px;margin: -1px;overflow: hidden;padding: 0;position: absolute;width: 1px;}#sk-container-id-6 div.sk-estimator {font-family: monospace;background-color: #f0f8ff;border: 1px dotted black;border-radius: 0.25em;box-sizing: border-box;margin-bottom: 0.5em;}#sk-container-id-6 div.sk-estimator:hover {background-color: #d4ebff;}#sk-container-id-6 div.sk-parallel-item::after {content: \"\";width: 100%;border-bottom: 1px solid gray;flex-grow: 1;}#sk-container-id-6 div.sk-label:hover label.sk-toggleable__label {background-color: #d4ebff;}#sk-container-id-6 div.sk-serial::before {content: \"\";position: absolute;border-left: 1px solid gray;box-sizing: border-box;top: 0;bottom: 0;left: 50%;z-index: 0;}#sk-container-id-6 div.sk-serial {display: flex;flex-direction: column;align-items: center;background-color: white;padding-right: 0.2em;padding-left: 0.2em;position: relative;}#sk-container-id-6 div.sk-item {position: relative;z-index: 1;}#sk-container-id-6 div.sk-parallel {display: flex;align-items: stretch;justify-content: center;background-color: white;position: relative;}#sk-container-id-6 div.sk-item::before, #sk-container-id-6 div.sk-parallel-item::before {content: \"\";position: absolute;border-left: 1px solid gray;box-sizing: border-box;top: 0;bottom: 0;left: 50%;z-index: -1;}#sk-container-id-6 div.sk-parallel-item {display: flex;flex-direction: column;z-index: 1;position: relative;background-color: white;}#sk-container-id-6 div.sk-parallel-item:first-child::after {align-self: flex-end;width: 50%;}#sk-container-id-6 div.sk-parallel-item:last-child::after {align-self: flex-start;width: 50%;}#sk-container-id-6 div.sk-parallel-item:only-child::after {width: 0;}#sk-container-id-6 div.sk-dashed-wrapped {border: 1px dashed gray;margin: 0 0.4em 0.5em 0.4em;box-sizing: border-box;padding-bottom: 0.4em;background-color: white;}#sk-container-id-6 div.sk-label label {font-family: monospace;font-weight: bold;display: inline-block;line-height: 1.2em;}#sk-container-id-6 div.sk-label-container {text-align: center;}#sk-container-id-6 div.sk-container {/* jupyter's `normalize.less` sets `[hidden] { display: none; }` but bootstrap.min.css set `[hidden] { display: none !important; }` so we also need the `!important` here to be able to override the default hidden behavior on the sphinx rendered scikit-learn.org. See: https://github.com/scikit-learn/scikit-learn/issues/21755 */display: inline-block !important;position: relative;}#sk-container-id-6 div.sk-text-repr-fallback {display: none;}</style><div id=\"sk-container-id-6\" class=\"sk-top-container\"><div class=\"sk-text-repr-fallback\"><pre>DBSCAN(eps=0.15, metric=&#x27;cosine&#x27;)</pre><b>In a Jupyter environment, please rerun this cell to show the HTML representation or trust the notebook. <br />On GitHub, the HTML representation is unable to render, please try loading this page with nbviewer.org.</b></div><div class=\"sk-container\" hidden><div class=\"sk-item\"><div class=\"sk-estimator sk-toggleable\"><input class=\"sk-toggleable__control sk-hidden--visually\" id=\"sk-estimator-id-6\" type=\"checkbox\" checked><label for=\"sk-estimator-id-6\" class=\"sk-toggleable__label sk-toggleable__label-arrow\">DBSCAN</label><div class=\"sk-toggleable__content\"><pre>DBSCAN(eps=0.15, metric=&#x27;cosine&#x27;)</pre></div></div></div></div></div>"
      ],
      "text/plain": [
       "DBSCAN(eps=0.15, metric='cosine')"
      ]
     },
     "execution_count": 37,
     "metadata": {},
     "output_type": "execute_result"
    }
   ],
   "source": [
    "epsilon = 0.15 # epsilon can be adjusted.\n",
    "#smaller epsilon means more clusters\n",
    "\n",
    "from sklearn.cluster import DBSCAN\n",
    "clustering = DBSCAN(eps=epsilon ,  metric='cosine') \n",
    "clustering.fit(X)"
   ]
  },
  {
   "cell_type": "code",
   "execution_count": 38,
   "metadata": {},
   "outputs": [
    {
     "data": {
      "text/plain": [
       "Counter({-1: 2283,\n",
       "         7: 26,\n",
       "         12: 22,\n",
       "         0: 14,\n",
       "         8: 14,\n",
       "         1: 12,\n",
       "         2: 12,\n",
       "         19: 11,\n",
       "         6: 10,\n",
       "         9: 10,\n",
       "         11: 10,\n",
       "         16: 9,\n",
       "         4: 7,\n",
       "         3: 6,\n",
       "         13: 6,\n",
       "         18: 6,\n",
       "         5: 5,\n",
       "         21: 5,\n",
       "         10: 5,\n",
       "         14: 5,\n",
       "         15: 5,\n",
       "         17: 5,\n",
       "         20: 5,\n",
       "         22: 5})"
      ]
     },
     "execution_count": 38,
     "metadata": {},
     "output_type": "execute_result"
    }
   ],
   "source": [
    "#count number of each lable \n",
    "from collections import Counter\n",
    "Counter(clustering.labels_)"
   ]
  },
  {
   "cell_type": "code",
   "execution_count": 39,
   "metadata": {},
   "outputs": [],
   "source": [
    "with open(f\"clusters/Question{question_number + 1}.txt\", \"w\",encoding=\"utf-8\") as f:\n",
    "    for cluster_number in range(0,np.max(clustering.labels_)+1):\n",
    "        q1['cluster'] = clustering.labels_\n",
    "        mask = q1['cluster'] == cluster_number\n",
    "        tmp = q1[mask][['type','response']].to_dict(orient='records')\n",
    "        f.write(f\"Cluster {cluster_number}\\n\")\n",
    "    \n",
    "        for x in tmp:\n",
    "            f.write(x['type']+\": \"+x['response'])\n",
    "            f.write(\"\\n\")\n",
    "        f.write(\"---------------------------\\n\")\n",
    "    # same thing for cluster_number == -1\n",
    "    mask = q1['cluster'] == -1\n",
    "    tmp = q1[mask][['type','response']].to_dict(orient='records')\n",
    "    f.write(f\"Unclassified Clusters \\n\")\n",
    "    for x in tmp:\n",
    "        f.write(x['type']+\": \"+x['response'])\n",
    "        f.write(\"\\n\")"
   ]
  },
  {
   "cell_type": "markdown",
   "metadata": {},
   "source": [
    "# Extra"
   ]
  },
  {
   "cell_type": "code",
   "execution_count": 20,
   "metadata": {},
   "outputs": [
    {
     "name": "stdout",
     "output_type": "stream",
     "text": [
      "GPT :   Transaction Data provided to third parties\n",
      "---------------\n",
      "GPT :   Transaction Data provided to third parties\n",
      "---------------\n",
      "GPT :   Payment Information provided to third parties\n",
      "---------------\n",
      "GPT :   Transaction Data provided to third parties\n",
      "---------------\n",
      "GPT :   Transaction Information provided to third parties\n",
      "---------------\n",
      "GPT :   Payment Data provided to third parties\n",
      "---------------\n",
      "CAGPT :   Transaction Information provided to third parties \n",
      "---------------\n"
     ]
    }
   ],
   "source": [
    "cluster_number = 10  #pick cluster number 10 from above cell \n",
    "\n",
    "q1['cluster'] = clustering.labels_\n",
    "mask = q1['cluster'] == cluster_number\n",
    "tmp = q1[mask][['type','response']].to_dict(orient='records')\n",
    "for x in tmp:\n",
    "    print(x['type'],\": \",x['response'])\n",
    "    print(\"---------------\")"
   ]
  }
 ],
 "metadata": {
  "kernelspec": {
   "display_name": "base",
   "language": "python",
   "name": "python3"
  },
  "language_info": {
   "codemirror_mode": {
    "name": "ipython",
    "version": 3
   },
   "file_extension": ".py",
   "mimetype": "text/x-python",
   "name": "python",
   "nbconvert_exporter": "python",
   "pygments_lexer": "ipython3",
   "version": "3.11.9"
  }
 },
 "nbformat": 4,
 "nbformat_minor": 2
}
